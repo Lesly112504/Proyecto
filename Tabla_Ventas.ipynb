{
 "cells": [
  {
   "cell_type": "code",
   "execution_count": 52,
   "metadata": {},
   "outputs": [
    {
     "name": "stdout",
     "output_type": "stream",
     "text": [
      "Garrafones vendidos de $8.00: 10\n",
      "Garrafones vendidos de $10.00: 11\n",
      "Garrafones vendidos de $11.00: 12\n",
      "Garrafones vendidos de $12.00: 13\n",
      "Garrafones vendidos de $15.00: 14\n",
      "==================================================Venta de garrafones===================================================\n",
      "╒═════════╤════════════╤══════════╤════════════╤══════════╤════════════╤══════════╤════════════╤══════════╤════════════╕\n",
      "│   $8.00 │   Subtotal │   $10.00 │   Subtotal │   $11.00 │   Subtotal │   $12.00 │   Subtotal │   $15.00 │   Subtotal │\n",
      "╞═════════╪════════════╪══════════╪════════════╪══════════╪════════════╪══════════╪════════════╪══════════╪════════════╡\n",
      "│      10 │         80 │       11 │         88 │       12 │         96 │       13 │        104 │       14 │        112 │\n",
      "╘═════════╧════════════╧══════════╧════════════╧══════════╧════════════╧══════════╧════════════╧══════════╧════════════╛\n",
      "Tu venta total es de: $  80 +  88 +  96 +  104 +  112 =  80 88 96 104 112: \n"
     ]
    }
   ],
   "source": [
    "from tabulate import tabulate\n",
    "\n",
    "g1 = int(input(\"Garrafones vendidos de $8.00: \"))\n",
    "g2 = int(input(\"Garrafones vendidos de $10.00: \"))\n",
    "g3 = int(input(\"Garrafones vendidos de $11.00: \"))\n",
    "g4 = int(input(\"Garrafones vendidos de $12.00: \"))\n",
    "g5 = int(input(\"Garrafones vendidos de $15.00: \"))\n",
    "\n",
    "sub1 = (f\" {g1 * 8}\")\n",
    "sub2 = (f\" {g2 * 8}\")\n",
    "sub3 = (f\" {g3 * 8}\")\n",
    "sub4 = (f\" {g4 * 8}\")\n",
    "sub5 = (f\" {g5 * 8}\")\n",
    "\n",
    "total =(f\" {sub1} + {sub2} + {sub3} + {sub4} + {sub5} = {sub1 + sub2 + sub3 + sub4 + sub5}\")\n",
    "\n",
    "print(\"Venta de garrafones\".center(120, \"=\"))\n",
    "\n",
    "Venta_garrafones = [['$8.00', 'Subtotal', '$10.00', 'Subtotal', '$11.00', 'Subtotal', '$12.00', 'Subtotal', '$15.00', 'Subtotal'], [g1, sub1, g2, sub2, g3, sub3, g4, sub4, g5, sub5]] \n",
    "                                                                                                                                       \n",
    "print(tabulate(Venta_garrafones, headers='firstrow', tablefmt='fancy_grid'))\n",
    "\n",
    "print(f\"Tu venta total es de: ${total}: \")"
   ]
  },
  {
   "cell_type": "code",
   "execution_count": null,
   "metadata": {},
   "outputs": [],
   "source": [
    "productos = []\n",
    "\n",
    "print(\"Ingrese lo que se le pide para obtener su tabla. Escribe 'fin' para terminar.\")\n",
    "input_values = True\n",
    "while input_values:\n",
    "    producto = input(\"Producto: \")\n",
    "    precio = int(input(\"Precio: \"))\n",
    "        \n",
    "    if producto or precio != \"fin\":\n",
    "        productos.append(producto)\n",
    "        productos.append(precio)\n",
    "    \n",
    "    else:\n",
    "        print(\"Saliendo del programa... \")\n",
    "        input_values = False"
   ]
  },
  {
   "cell_type": "code",
   "execution_count": null,
   "metadata": {},
   "outputs": [],
   "source": []
  }
 ],
 "metadata": {
  "kernelspec": {
   "display_name": "Python 3",
   "language": "python",
   "name": "python3"
  },
  "language_info": {
   "codemirror_mode": {
    "name": "ipython",
    "version": 3
   },
   "file_extension": ".py",
   "mimetype": "text/x-python",
   "name": "python",
   "nbconvert_exporter": "python",
   "pygments_lexer": "ipython3",
   "version": "3.6.5"
  }
 },
 "nbformat": 4,
 "nbformat_minor": 2
}
