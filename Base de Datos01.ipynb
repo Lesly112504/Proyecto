{
 "cells": [
  {
   "cell_type": "code",
   "execution_count": 1,
   "metadata": {},
   "outputs": [
    {
     "name": "stdout",
     "output_type": "stream",
     "text": [
      "Entradas de su producto: 10\n",
      "Salidas de su producto: 7\n",
      "Existencia de su producto: 10\n",
      "10 + 10 - 7 = 13\n",
      "10 + 10 - 7 = 13\n",
      "+------------+----------+-----------+----------+--------------+---------+\n",
      "| Producto   |   Precio |   Entrada |   Salida |   Existencia | Stock   |\n",
      "+============+==========+===========+==========+==============+=========+\n",
      "| Garrafon   |       79 |        10 |        7 |           10 |         |\n",
      "+------------+----------+-----------+----------+--------------+---------+\n",
      "| Sellos     |       70 |        10 |        7 |           10 |         |\n",
      "+------------+----------+-----------+----------+--------------+---------+\n"
     ]
    }
   ],
   "source": [
    "from tabulate import tabulate\n",
    "\n",
    "# Imprime tabla a partir de los datos de \n",
    "# una lista de listas:\n",
    "\n",
    "entrada = int(input(\"Entradas de su producto: \"))\n",
    "salida = int(input(\"Salidas de su producto: \"))\n",
    "existencia = int(input(\"Existencia de su producto: \"))\n",
    "\n",
    "\n",
    "rios1 = [['Producto', 'Precio', 'Entrada', 'Salida', 'Existencia', 'Stock'],\n",
    "         ['Garrafon', 79, entrada, salida, existencia, print(f\"{entrada} + {existencia} - {salida} = {entrada + existencia - salida}\")],\n",
    "        ['Sellos', 70,  entrada, salida, existencia, print(f\"{entrada} + {existencia} - {salida} = {entrada + existencia - salida}\")]]\n",
    "         \n",
    "        \n",
    "print(tabulate(rios1, headers='firstrow', tablefmt='grid'))"
   ]
  },
  {
   "cell_type": "code",
   "execution_count": 4,
   "metadata": {},
   "outputs": [
    {
     "name": "stdout",
     "output_type": "stream",
     "text": [
      "Ingrese lo que se le pide para obtener su tabla. Escribe 'fin' para terminar.\n",
      "Producto: hbuhufv\n",
      "Precio: 89\n",
      "Producto: nu\n",
      "Precio: 09\n",
      "Producto: fin\n",
      "Precio: fin\n"
     ]
    },
    {
     "ename": "ValueError",
     "evalue": "invalid literal for int() with base 10: 'fin'",
     "output_type": "error",
     "traceback": [
      "\u001b[1;31m---------------------------------------------------------------------------\u001b[0m",
      "\u001b[1;31mValueError\u001b[0m                                Traceback (most recent call last)",
      "\u001b[1;32m<ipython-input-4-b8260be04a50>\u001b[0m in \u001b[0;36m<module>\u001b[1;34m()\u001b[0m\n\u001b[0;32m      5\u001b[0m \u001b[1;32mwhile\u001b[0m \u001b[0minput_values\u001b[0m\u001b[1;33m:\u001b[0m\u001b[1;33m\u001b[0m\u001b[0m\n\u001b[0;32m      6\u001b[0m     \u001b[0mproducto\u001b[0m \u001b[1;33m=\u001b[0m \u001b[0minput\u001b[0m\u001b[1;33m(\u001b[0m\u001b[1;34m\"Producto: \"\u001b[0m\u001b[1;33m)\u001b[0m\u001b[1;33m\u001b[0m\u001b[0m\n\u001b[1;32m----> 7\u001b[1;33m     \u001b[0mprecio\u001b[0m \u001b[1;33m=\u001b[0m \u001b[0mint\u001b[0m\u001b[1;33m(\u001b[0m\u001b[0minput\u001b[0m\u001b[1;33m(\u001b[0m\u001b[1;34m\"Precio: \"\u001b[0m\u001b[1;33m)\u001b[0m\u001b[1;33m)\u001b[0m\u001b[1;33m\u001b[0m\u001b[0m\n\u001b[0m\u001b[0;32m      8\u001b[0m \u001b[1;33m\u001b[0m\u001b[0m\n\u001b[0;32m      9\u001b[0m     \u001b[1;32mif\u001b[0m \u001b[0mproducto\u001b[0m \u001b[1;32mand\u001b[0m \u001b[0mprecio\u001b[0m \u001b[1;33m!=\u001b[0m \u001b[1;34m\"fin\"\u001b[0m\u001b[1;33m:\u001b[0m\u001b[1;33m\u001b[0m\u001b[0m\n",
      "\u001b[1;31mValueError\u001b[0m: invalid literal for int() with base 10: 'fin'"
     ]
    }
   ],
   "source": [
    "productos = []\n",
    "\n",
    "print(\"Ingrese lo que se le pide para obtener su tabla. Escribe 'fin' para terminar.\")\n",
    "input_values = True\n",
    "while input_values:\n",
    "    producto = input(\"Producto: \")\n",
    "    precio = int(input(\"Precio: \"))\n",
    "        \n",
    "    if producto and precio != \"fin\":\n",
    "        productos.append(producto)\n",
    "        productos.append(precio)\n",
    "    \n",
    "    else:\n",
    "        print(\"Saliendo del programa... \")\n",
    "        input_values = False\n",
    "        \n"
   ]
  },
  {
   "cell_type": "code",
   "execution_count": null,
   "metadata": {},
   "outputs": [],
   "source": []
  }
 ],
 "metadata": {
  "kernelspec": {
   "display_name": "Python 3",
   "language": "python",
   "name": "python3"
  },
  "language_info": {
   "codemirror_mode": {
    "name": "ipython",
    "version": 3
   },
   "file_extension": ".py",
   "mimetype": "text/x-python",
   "name": "python",
   "nbconvert_exporter": "python",
   "pygments_lexer": "ipython3",
   "version": "3.6.5"
  }
 },
 "nbformat": 4,
 "nbformat_minor": 2
}
