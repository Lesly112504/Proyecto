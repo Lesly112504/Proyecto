{
 "cells": [
  {
   "cell_type": "code",
   "execution_count": 1,
   "metadata": {},
   "outputs": [
    {
     "ename": "SyntaxError",
     "evalue": "invalid syntax (<ipython-input-1-4c0b54e8fca8>, line 9)",
     "output_type": "error",
     "traceback": [
      "\u001b[1;36m  File \u001b[1;32m\"<ipython-input-1-4c0b54e8fca8>\"\u001b[1;36m, line \u001b[1;32m9\u001b[0m\n\u001b[1;33m    while venta = True:\u001b[0m\n\u001b[1;37m                ^\u001b[0m\n\u001b[1;31mSyntaxError\u001b[0m\u001b[1;31m:\u001b[0m invalid syntax\n"
     ]
    }
   ],
   "source": [
    "from tabulate import tabulate\n",
    "\n",
    "# Imprime tabla a partir de los datos de \n",
    "# una lista de listas:\n",
    "\n",
    "productos = [['Producto', 'Precio', 'Entrada', 'Salida', 'Existencia', 'Stock'],[]]\n",
    "\n",
    "\n",
    "while venta = True: \n",
    "        \n",
    "    producto = input(\"Porducto: \")\n",
    "    precio = int(input(\"Precio: \"))\n",
    "    entrada = int(input(\"Entradas de su producto: \"))\n",
    "    salida = int(input(\"Salidas de su producto: \"))\n",
    "    existencia = int(input(\"Existencia de su producto: \"))\n",
    "    stock = print(f\"Stock = {entrada + existencia - salida}\")\n",
    "    \n",
    "    if producto != 'fin':\n",
    "        productos.append(producto)\n",
    "        productos.append(precio)\n",
    "        productos.append(entrada)\n",
    "        productos.append(salida)\n",
    "        productos.append(existencia)\n",
    "        productos.append(stock)\n",
    "    \n",
    "            \n",
    "    else venta = False:\n",
    "        print(\"esta saliendo del programa... Espere su tabla\")\n",
    "        \n",
    "\n"
   ]
  },
  {
   "cell_type": "code",
   "execution_count": 15,
   "metadata": {},
   "outputs": [
    {
     "name": "stdout",
     "output_type": "stream",
     "text": [
      "Ingrese lo que se le pide para obtener su tabla. Escribe 'fin'\n"
     ]
    },
    {
     "ename": "NameError",
     "evalue": "name 'producto' is not defined",
     "output_type": "error",
     "traceback": [
      "\u001b[1;31m---------------------------------------------------------------------------\u001b[0m",
      "\u001b[1;31mNameError\u001b[0m                                 Traceback (most recent call last)",
      "\u001b[1;32m<ipython-input-15-ca0c1720e97d>\u001b[0m in \u001b[0;36m<module>\u001b[1;34m()\u001b[0m\n\u001b[0;32m     15\u001b[0m     \u001b[0mregistro\u001b[0m \u001b[1;33m=\u001b[0m \u001b[0minput\u001b[0m\u001b[1;33m(\u001b[0m\u001b[1;34m\"Iniciar o Terminar: \"\u001b[0m\u001b[1;33m)\u001b[0m\u001b[1;33m\u001b[0m\u001b[0m\n\u001b[0;32m     16\u001b[0m \u001b[1;33m\u001b[0m\u001b[0m\n\u001b[1;32m---> 17\u001b[1;33m \u001b[0mproductos\u001b[0m\u001b[1;33m=\u001b[0m \u001b[1;33m[\u001b[0m\u001b[1;33m[\u001b[0m\u001b[1;34m'Producto'\u001b[0m\u001b[1;33m,\u001b[0m \u001b[1;34m'Entrada'\u001b[0m\u001b[1;33m,\u001b[0m \u001b[1;34m'Salida'\u001b[0m\u001b[1;33m,\u001b[0m \u001b[1;34m'Existencia'\u001b[0m\u001b[1;33m,\u001b[0m \u001b[1;34m'Stock'\u001b[0m\u001b[1;33m]\u001b[0m\u001b[1;33m,\u001b[0m\u001b[1;33m[\u001b[0m\u001b[0mproducto\u001b[0m\u001b[1;33m,\u001b[0m \u001b[0mentrada\u001b[0m\u001b[1;33m,\u001b[0m \u001b[0msalida\u001b[0m\u001b[1;33m,\u001b[0m \u001b[0mexistencia\u001b[0m\u001b[1;33m,\u001b[0m \u001b[0mstock\u001b[0m\u001b[1;33m]\u001b[0m\u001b[1;33m]\u001b[0m\u001b[1;33m\u001b[0m\u001b[0m\n\u001b[0m\u001b[0;32m     18\u001b[0m \u001b[1;33m\u001b[0m\u001b[0m\n\u001b[0;32m     19\u001b[0m \u001b[0mprint\u001b[0m\u001b[1;33m(\u001b[0m\u001b[0mtabulate\u001b[0m\u001b[1;33m(\u001b[0m\u001b[0mproductos\u001b[0m\u001b[1;33m,\u001b[0m \u001b[0mheaders\u001b[0m\u001b[1;33m=\u001b[0m\u001b[1;34m'firstrow'\u001b[0m\u001b[1;33m,\u001b[0m \u001b[0mtablefmt\u001b[0m\u001b[1;33m=\u001b[0m\u001b[1;34m'grid'\u001b[0m\u001b[1;33m)\u001b[0m\u001b[1;33m)\u001b[0m\u001b[1;33m\u001b[0m\u001b[0m\n",
      "\u001b[1;31mNameError\u001b[0m: name 'producto' is not defined"
     ]
    }
   ],
   "source": [
    "from tabulate import tabulate\n",
    "print(\"Ingrese lo que se le pide para obtener su tabla. Escribe 'fin'\")\n",
    "\n",
    "# Imprime tabla a partir de los datos de \n",
    "# una lista de listas:\n",
    "registro == \"iniciar\"\n",
    "\n",
    "while registro == \"iniciar\":\n",
    "    \n",
    "    producto = input(\"Producto: \")\n",
    "    entrada = int(input(\"Entradas de su producto: \"))\n",
    "    salida = int(input(\"Salidas de su producto: \"))\n",
    "    existencia = int(input(\"Existencia de su producto: \"))\n",
    "    stock = print(f\"Stock = {entrada + existencia - salida}\")\n",
    "    registro = input(\"Iniciar o Terminar: \")\n",
    "\n",
    "productos= [['Producto', 'Entrada', 'Salida', 'Existencia', 'Stock'],[producto, entrada, salida, existencia, stock]]\n",
    "        \n",
    "print(tabulate(productos, headers='firstrow', tablefmt='grid'))\n",
    "\n",
    "        \n",
    "        \n"
   ]
  },
  {
   "cell_type": "code",
   "execution_count": null,
   "metadata": {},
   "outputs": [],
   "source": []
  }
 ],
 "metadata": {
  "kernelspec": {
   "display_name": "Python 3",
   "language": "python",
   "name": "python3"
  },
  "language_info": {
   "codemirror_mode": {
    "name": "ipython",
    "version": 3
   },
   "file_extension": ".py",
   "mimetype": "text/x-python",
   "name": "python",
   "nbconvert_exporter": "python",
   "pygments_lexer": "ipython3",
   "version": "3.6.5"
  }
 },
 "nbformat": 4,
 "nbformat_minor": 2
}
